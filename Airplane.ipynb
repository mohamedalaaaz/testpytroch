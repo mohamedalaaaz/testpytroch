{
  "nbformat": 4,
  "nbformat_minor": 0,
  "metadata": {
    "colab": {
      "provenance": [],
      "authorship_tag": "ABX9TyO8voseMRAUFvuU88h23T5W",
      "include_colab_link": true
    },
    "kernelspec": {
      "name": "python3",
      "display_name": "Python 3"
    },
    "language_info": {
      "name": "python"
    }
  },
  "cells": [
    {
      "cell_type": "markdown",
      "metadata": {
        "id": "view-in-github",
        "colab_type": "text"
      },
      "source": [
        "<a href=\"https://colab.research.google.com/github/mohamedalaaaz/testpytroch/blob/main/Airplane.ipynb\" target=\"_parent\"><img src=\"https://colab.research.google.com/assets/colab-badge.svg\" alt=\"Open In Colab\"/></a>"
      ]
    },
    {
      "cell_type": "code",
      "execution_count": 2,
      "metadata": {
        "colab": {
          "base_uri": "https://localhost:8080/",
          "height": 1000
        },
        "id": "ETj0F0JI7zPS",
        "outputId": "5f0aaa2d-49d9-4c26-9ff9-4dc8228a3371"
      },
      "outputs": [
        {
          "output_type": "stream",
          "name": "stdout",
          "text": [
            "/bin/bash: -c: line 7: syntax error near unexpected token `('\n",
            "/bin/bash: -c: line 7: `// Simple binary wrapper: 1 if airplane (class=0), else 0'\n"
          ]
        },
        {
          "output_type": "error",
          "ename": "CalledProcessError",
          "evalue": "Command '\n#include <torch/torch.h>\n#include <torchvision/models/resnet.h>\n#include <iostream>\n#include <iomanip>\n\n// Simple binary wrapper: 1 if airplane (class=0), else 0\nstruct BinaryAirplaneDataset : torch::data::datasets::Dataset<BinaryAirplaneDataset> {\n    torch::data::datasets::CIFAR10 cifar;\n    BinaryAirplaneDataset(const std::string& root, bool train, torch::data::transforms::TensorTransform transform)\n        : cifar(root, train, transform) {}\n\n    torch::data::Example<> get(size_t idx) override {\n        auto example = cifar.get(idx);\n        auto label = example.target.item<int64_t>();\n        int64_t y = (label == 0) ? 1 : 0;\n        return {example.data, torch::tensor(y, torch::kLong)};\n    }\n    torch::optional<size_t> size() const override { return cifar.size(); }\n};\n\nint main() {\n    torch::manual_seed(42);\n    torch::Device device(torch::cuda::is_available() ? torch::kCUDA : torch::kCPU);\n    std::cout << \"Using device: \" << (device.is_cuda() ? \"CUDA\" : \"CPU\") << \"\\n\";\n\n    const int batch_size = 128;\n    const int epochs = 5;\n    const int image_size = 224;\n\n    // Transforms\n    auto transform = torch::data::transforms::Compose({\n        torch::data::transforms::Resize({image_size, image_size}),\n        torch::data::transforms::ToTensor(),\n        torch::data::transforms::Normalize({0.485,0.456,0.406}, {0.229,0.224,0.225})\n    });\n\n    // Datasets + loaders\n    auto train_ds = BinaryAirplaneDataset(\"./data\", true, transform).map(torch::data::transforms::Stack<>());\n    auto test_ds  = BinaryAirplaneDataset(\"./data\", false, transform).map(torch::data::transforms::Stack<>());\n\n    auto train_loader = torch::data::make_data_loader(std::move(train_ds), batch_size);\n    auto test_loader  = torch::data::make_data_loader(std::move(test_ds), batch_size);\n\n    // Model: ResNet18\n    auto model = vision::models::ResNet18(/*num_classes=*/1);\n    model->to(device);\n\n    torch::optim::Adam optimizer(model->parameters(), torch::optim::AdamOptions(1e-4));\n\n    // Training loop\n    for (int epoch = 1; epoch <= epochs; epoch++) {\n        model->train();\n        size_t batch_idx = 0;\n        double total_loss = 0.0;\n\n        for (auto& batch : *train_loader) {\n            auto data = batch.data.to(device);\n            auto targets = batch.target.to(device).to(torch::kFloat32);\n\n            optimizer.zero_grad();\n            auto logits = model->forward(data).view(-1);\n            auto loss = torch::binary_cross_entropy_with_logits(logits, targets);\n            loss.backward();\n            optimizer.step();\n\n            total_loss += loss.item<double>();\n            if (batch_idx++ % 50 == 0)\n                std::cout << \"Epoch \" << epoch << \" [\" << batch_idx << \"] Loss: \" << loss.item<double>() << \"\\n\";\n        }\n        std::cout << \"Epoch \" << epoch << \" Avg Loss: \" << total_loss / batch_idx << \"\\n\";\n\n        // Evaluation\n        model->eval();\n        int correct = 0, total = 0;\n        torch::NoGradGuard no_grad;\n        for (auto& batch : *test_loader) {\n            auto data = batch.data.to(device);\n            auto targets = batch.target.to(device);\n\n            auto logits = model->forward(data).view(-1).sigmoid();\n            auto preds = (logits >= 0.5).to(torch::kLong);\n            correct += preds.eq(targets).sum().item<int64_t>();\n            total += targets.size(0);\n        }\n        std::cout << \"Test Accuracy: \" << std::fixed << std::setprecision(4)\n                  << static_cast<double>(correct) / total << \"\\n\";\n    }\n\n    torch::save(model, \"airplane_model.pt\");\n    std::cout << \"Model saved to airplane_model.pt\\n\";\n}\n' returned non-zero exit status 2.",
          "traceback": [
            "\u001b[0;31m---------------------------------------------------------------------------\u001b[0m",
            "\u001b[0;31mCalledProcessError\u001b[0m                        Traceback (most recent call last)",
            "\u001b[0;32m/tmp/ipython-input-2160491781.py\u001b[0m in \u001b[0;36m<cell line: 0>\u001b[0;34m()\u001b[0m\n\u001b[0;32m----> 1\u001b[0;31m \u001b[0mget_ipython\u001b[0m\u001b[0;34m(\u001b[0m\u001b[0;34m)\u001b[0m\u001b[0;34m.\u001b[0m\u001b[0mrun_cell_magic\u001b[0m\u001b[0;34m(\u001b[0m\u001b[0;34m'shell'\u001b[0m\u001b[0;34m,\u001b[0m \u001b[0;34m''\u001b[0m\u001b[0;34m,\u001b[0m \u001b[0;34m'\\n#include <torch/torch.h>\\n#include <torchvision/models/resnet.h>\\n#include <iostream>\\n#include <iomanip>\\n\\n// Simple binary wrapper: 1 if airplane (class=0), else 0\\nstruct BinaryAirplaneDataset : torch::data::datasets::Dataset<BinaryAirplaneDataset> {\\n    torch::data::datasets::CIFAR10 cifar;\\n    BinaryAirplaneDataset(const std::string& root, bool train, torch::data::transforms::TensorTransform transform)\\n        : cifar(root, train, transform) {}\\n\\n    torch::data::Example<> get(size_t idx) override {\\n        auto example = cifar.get(idx);\\n        auto label = example.target.item<int64_t>();\\n        int64_t y = (label == 0) ? 1 : 0;\\n        return {example.data, torch::tensor(y, torch::kLong)};\\n    }\\n    torch::optional<size_t> size() const override { return cifar.size(); }\\n};\\n\\nint main() {\\n    torch::manual_seed(42);\\n    torch::Device device(torch::cuda::is_available() ? torch::kCUDA : torch::kCPU);\\n    std::cout << \"Using device: \" << (device.is_cuda() ? \"CUDA\" : \"CPU\") << \"\\\\n\";\\n\\n    const int batch_size = 128;\\n    const int epochs = 5;\\n    const int image_size = 224;\\n\\n    // Transforms\\n    auto transform = torch::data::transforms::Compose({\\n        torch::data::transforms::Resize({image_size, image_size}),\\n        torch::data::transforms::ToTensor(),\\n        torch:...\n\u001b[0m",
            "\u001b[0;32m/usr/local/lib/python3.12/dist-packages/google/colab/_shell.py\u001b[0m in \u001b[0;36mrun_cell_magic\u001b[0;34m(self, magic_name, line, cell)\u001b[0m\n\u001b[1;32m    274\u001b[0m     \u001b[0;32mif\u001b[0m \u001b[0mline\u001b[0m \u001b[0;32mand\u001b[0m \u001b[0;32mnot\u001b[0m \u001b[0mcell\u001b[0m\u001b[0;34m:\u001b[0m\u001b[0;34m\u001b[0m\u001b[0;34m\u001b[0m\u001b[0m\n\u001b[1;32m    275\u001b[0m       \u001b[0mcell\u001b[0m \u001b[0;34m=\u001b[0m \u001b[0;34m' '\u001b[0m\u001b[0;34m\u001b[0m\u001b[0;34m\u001b[0m\u001b[0m\n\u001b[0;32m--> 276\u001b[0;31m     \u001b[0;32mreturn\u001b[0m \u001b[0msuper\u001b[0m\u001b[0;34m(\u001b[0m\u001b[0;34m)\u001b[0m\u001b[0;34m.\u001b[0m\u001b[0mrun_cell_magic\u001b[0m\u001b[0;34m(\u001b[0m\u001b[0mmagic_name\u001b[0m\u001b[0;34m,\u001b[0m \u001b[0mline\u001b[0m\u001b[0;34m,\u001b[0m \u001b[0mcell\u001b[0m\u001b[0;34m)\u001b[0m\u001b[0;34m\u001b[0m\u001b[0;34m\u001b[0m\u001b[0m\n\u001b[0m\u001b[1;32m    277\u001b[0m \u001b[0;34m\u001b[0m\u001b[0m\n\u001b[1;32m    278\u001b[0m \u001b[0;34m\u001b[0m\u001b[0m\n",
            "\u001b[0;32m/usr/local/lib/python3.12/dist-packages/IPython/core/interactiveshell.py\u001b[0m in \u001b[0;36mrun_cell_magic\u001b[0;34m(self, magic_name, line, cell)\u001b[0m\n\u001b[1;32m   2471\u001b[0m             \u001b[0;32mwith\u001b[0m \u001b[0mself\u001b[0m\u001b[0;34m.\u001b[0m\u001b[0mbuiltin_trap\u001b[0m\u001b[0;34m:\u001b[0m\u001b[0;34m\u001b[0m\u001b[0;34m\u001b[0m\u001b[0m\n\u001b[1;32m   2472\u001b[0m                 \u001b[0margs\u001b[0m \u001b[0;34m=\u001b[0m \u001b[0;34m(\u001b[0m\u001b[0mmagic_arg_s\u001b[0m\u001b[0;34m,\u001b[0m \u001b[0mcell\u001b[0m\u001b[0;34m)\u001b[0m\u001b[0;34m\u001b[0m\u001b[0;34m\u001b[0m\u001b[0m\n\u001b[0;32m-> 2473\u001b[0;31m                 \u001b[0mresult\u001b[0m \u001b[0;34m=\u001b[0m \u001b[0mfn\u001b[0m\u001b[0;34m(\u001b[0m\u001b[0;34m*\u001b[0m\u001b[0margs\u001b[0m\u001b[0;34m,\u001b[0m \u001b[0;34m**\u001b[0m\u001b[0mkwargs\u001b[0m\u001b[0;34m)\u001b[0m\u001b[0;34m\u001b[0m\u001b[0;34m\u001b[0m\u001b[0m\n\u001b[0m\u001b[1;32m   2474\u001b[0m             \u001b[0;32mreturn\u001b[0m \u001b[0mresult\u001b[0m\u001b[0;34m\u001b[0m\u001b[0;34m\u001b[0m\u001b[0m\n\u001b[1;32m   2475\u001b[0m \u001b[0;34m\u001b[0m\u001b[0m\n",
            "\u001b[0;32m/usr/local/lib/python3.12/dist-packages/google/colab/_system_commands.py\u001b[0m in \u001b[0;36m_shell_cell_magic\u001b[0;34m(args, cmd)\u001b[0m\n\u001b[1;32m    110\u001b[0m   \u001b[0mresult\u001b[0m \u001b[0;34m=\u001b[0m \u001b[0m_run_command\u001b[0m\u001b[0;34m(\u001b[0m\u001b[0mcmd\u001b[0m\u001b[0;34m,\u001b[0m \u001b[0mclear_streamed_output\u001b[0m\u001b[0;34m=\u001b[0m\u001b[0;32mFalse\u001b[0m\u001b[0;34m)\u001b[0m\u001b[0;34m\u001b[0m\u001b[0;34m\u001b[0m\u001b[0m\n\u001b[1;32m    111\u001b[0m   \u001b[0;32mif\u001b[0m \u001b[0;32mnot\u001b[0m \u001b[0mparsed_args\u001b[0m\u001b[0;34m.\u001b[0m\u001b[0mignore_errors\u001b[0m\u001b[0;34m:\u001b[0m\u001b[0;34m\u001b[0m\u001b[0;34m\u001b[0m\u001b[0m\n\u001b[0;32m--> 112\u001b[0;31m     \u001b[0mresult\u001b[0m\u001b[0;34m.\u001b[0m\u001b[0mcheck_returncode\u001b[0m\u001b[0;34m(\u001b[0m\u001b[0;34m)\u001b[0m\u001b[0;34m\u001b[0m\u001b[0;34m\u001b[0m\u001b[0m\n\u001b[0m\u001b[1;32m    113\u001b[0m   \u001b[0;32mreturn\u001b[0m \u001b[0mresult\u001b[0m\u001b[0;34m\u001b[0m\u001b[0;34m\u001b[0m\u001b[0m\n\u001b[1;32m    114\u001b[0m \u001b[0;34m\u001b[0m\u001b[0m\n",
            "\u001b[0;32m/usr/local/lib/python3.12/dist-packages/google/colab/_system_commands.py\u001b[0m in \u001b[0;36mcheck_returncode\u001b[0;34m(self)\u001b[0m\n\u001b[1;32m    135\u001b[0m   \u001b[0;32mdef\u001b[0m \u001b[0mcheck_returncode\u001b[0m\u001b[0;34m(\u001b[0m\u001b[0mself\u001b[0m\u001b[0;34m)\u001b[0m\u001b[0;34m:\u001b[0m\u001b[0;34m\u001b[0m\u001b[0;34m\u001b[0m\u001b[0m\n\u001b[1;32m    136\u001b[0m     \u001b[0;32mif\u001b[0m \u001b[0mself\u001b[0m\u001b[0;34m.\u001b[0m\u001b[0mreturncode\u001b[0m\u001b[0;34m:\u001b[0m\u001b[0;34m\u001b[0m\u001b[0;34m\u001b[0m\u001b[0m\n\u001b[0;32m--> 137\u001b[0;31m       raise subprocess.CalledProcessError(\n\u001b[0m\u001b[1;32m    138\u001b[0m           \u001b[0mreturncode\u001b[0m\u001b[0;34m=\u001b[0m\u001b[0mself\u001b[0m\u001b[0;34m.\u001b[0m\u001b[0mreturncode\u001b[0m\u001b[0;34m,\u001b[0m \u001b[0mcmd\u001b[0m\u001b[0;34m=\u001b[0m\u001b[0mself\u001b[0m\u001b[0;34m.\u001b[0m\u001b[0margs\u001b[0m\u001b[0;34m,\u001b[0m \u001b[0moutput\u001b[0m\u001b[0;34m=\u001b[0m\u001b[0mself\u001b[0m\u001b[0;34m.\u001b[0m\u001b[0moutput\u001b[0m\u001b[0;34m\u001b[0m\u001b[0;34m\u001b[0m\u001b[0m\n\u001b[1;32m    139\u001b[0m       )\n",
            "\u001b[0;31mCalledProcessError\u001b[0m: Command '\n#include <torch/torch.h>\n#include <torchvision/models/resnet.h>\n#include <iostream>\n#include <iomanip>\n\n// Simple binary wrapper: 1 if airplane (class=0), else 0\nstruct BinaryAirplaneDataset : torch::data::datasets::Dataset<BinaryAirplaneDataset> {\n    torch::data::datasets::CIFAR10 cifar;\n    BinaryAirplaneDataset(const std::string& root, bool train, torch::data::transforms::TensorTransform transform)\n        : cifar(root, train, transform) {}\n\n    torch::data::Example<> get(size_t idx) override {\n        auto example = cifar.get(idx);\n        auto label = example.target.item<int64_t>();\n        int64_t y = (label == 0) ? 1 : 0;\n        return {example.data, torch::tensor(y, torch::kLong)};\n    }\n    torch::optional<size_t> size() const override { return cifar.size(); }\n};\n\nint main() {\n    torch::manual_seed(42);\n    torch::Device device(torch::cuda::is_available() ? torch::kCUDA : torch::kCPU);\n    std::cout << \"Using device: \" << (device.is_cuda() ? \"CUDA\" : \"CPU\") << \"\\n\";\n\n    const int batch_size = 128;\n    const int epochs = 5;\n    const int image_size = 224;\n\n    // Transforms\n    auto transform = torch::data::transforms::Compose({\n        torch::data::transforms::Resize({image_size, image_size}),\n        torch::data::transforms::ToTensor(),\n        torch::data::transforms::Normalize({0.485,0.456,0.406}, {0.229,0.224,0.225})\n    });\n\n    // Datasets + loaders\n    auto train_ds = BinaryAirplaneDataset(\"./data\", true, transform).map(torch::data::transforms::Stack<>());\n    auto test_ds  = BinaryAirplaneDataset(\"./data\", false, transform).map(torch::data::transforms::Stack<>());\n\n    auto train_loader = torch::data::make_data_loader(std::move(train_ds), batch_size);\n    auto test_loader  = torch::data::make_data_loader(std::move(test_ds), batch_size);\n\n    // Model: ResNet18\n    auto model = vision::models::ResNet18(/*num_classes=*/1);\n    model->to(device);\n\n    torch::optim::Adam optimizer(model->parameters(), torch::optim::AdamOptions(1e-4));\n\n    // Training loop\n    for (int epoch = 1; epoch <= epochs; epoch++) {\n        model->train();\n        size_t batch_idx = 0;\n        double total_loss = 0.0;\n\n        for (auto& batch : *train_loader) {\n            auto data = batch.data.to(device);\n            auto targets = batch.target.to(device).to(torch::kFloat32);\n\n            optimizer.zero_grad();\n            auto logits = model->forward(data).view(-1);\n            auto loss = torch::binary_cross_entropy_with_logits(logits, targets);\n            loss.backward();\n            optimizer.step();\n\n            total_loss += loss.item<double>();\n            if (batch_idx++ % 50 == 0)\n                std::cout << \"Epoch \" << epoch << \" [\" << batch_idx << \"] Loss: \" << loss.item<double>() << \"\\n\";\n        }\n        std::cout << \"Epoch \" << epoch << \" Avg Loss: \" << total_loss / batch_idx << \"\\n\";\n\n        // Evaluation\n        model->eval();\n        int correct = 0, total = 0;\n        torch::NoGradGuard no_grad;\n        for (auto& batch : *test_loader) {\n            auto data = batch.data.to(device);\n            auto targets = batch.target.to(device);\n\n            auto logits = model->forward(data).view(-1).sigmoid();\n            auto preds = (logits >= 0.5).to(torch::kLong);\n            correct += preds.eq(targets).sum().item<int64_t>();\n            total += targets.size(0);\n        }\n        std::cout << \"Test Accuracy: \" << std::fixed << std::setprecision(4)\n                  << static_cast<double>(correct) / total << \"\\n\";\n    }\n\n    torch::save(model, \"airplane_model.pt\");\n    std::cout << \"Model saved to airplane_model.pt\\n\";\n}\n' returned non-zero exit status 2."
          ]
        }
      ],
      "source": [
        "%%shell\n",
        "\n",
        "cat > main.cpp <<EOF\n",
        "#include <torch/torch.h>\n",
        "#include <torchvision/models/resnet.h>\n",
        "#include <iostream>\n",
        "#include <iomanip>\n",
        "\n",
        "// Simple binary wrapper: 1 if airplane (class=0), else 0\n",
        "struct BinaryAirplaneDataset : torch::data::datasets::Dataset<BinaryAirplaneDataset> {\n",
        "    torch::data::datasets::CIFAR10 cifar;\n",
        "    BinaryAirplaneDataset(const std::string& root, bool train, torch::data::transforms::TensorTransform transform)\n",
        "        : cifar(root, train, transform) {}\n",
        "\n",
        "    torch::data::Example<> get(size_t idx) override {\n",
        "        auto example = cifar.get(idx);\n",
        "        auto label = example.target.item<int64_t>();\n",
        "        int64_t y = (label == 0) ? 1 : 0;\n",
        "        return {example.data, torch::tensor(y, torch::kLong)};\n",
        "    }\n",
        "    torch::optional<size_t> size() const override { return cifar.size(); }\n",
        "};\n",
        "\n",
        "int main() {\n",
        "    torch::manual_seed(42);\n",
        "    torch::Device device(torch::cuda::is_available() ? torch::kCUDA : torch::kCPU);\n",
        "    std::cout << \"Using device: \" << (device.is_cuda() ? \"CUDA\" : \"CPU\") << \"\\n\";\n",
        "\n",
        "    const int batch_size = 128;\n",
        "    const int epochs = 5;\n",
        "    const int image_size = 224;\n",
        "\n",
        "    // Transforms\n",
        "    auto transform = torch::data::transforms::Compose({\n",
        "        torch::data::transforms::Resize({image_size, image_size}),\n",
        "        torch::data::transforms::ToTensor(),\n",
        "        torch::data::transforms::Normalize({0.485,0.456,0.406}, {0.229,0.224,0.225})\n",
        "    });\n",
        "\n",
        "    // Datasets + loaders\n",
        "    auto train_ds = BinaryAirplaneDataset(\"./data\", true, transform).map(torch::data::transforms::Stack<>());\n",
        "    auto test_ds  = BinaryAirplaneDataset(\"./data\", false, transform).map(torch::data::transforms::Stack<>());\n",
        "\n",
        "    auto train_loader = torch::data::make_data_loader(std::move(train_ds), batch_size);\n",
        "    auto test_loader  = torch::data::make_data_loader(std::move(test_ds), batch_size);\n",
        "\n",
        "    // Model: ResNet18\n",
        "    auto model = vision::models::ResNet18(/*num_classes=*/1);\n",
        "    model->to(device);\n",
        "\n",
        "    torch::optim::Adam optimizer(model->parameters(), torch::optim::AdamOptions(1e-4));\n",
        "\n",
        "    // Training loop\n",
        "    for (int epoch = 1; epoch <= epochs; epoch++) {\n",
        "        model->train();\n",
        "        size_t batch_idx = 0;\n",
        "        double total_loss = 0.0;\n",
        "\n",
        "        for (auto& batch : *train_loader) {\n",
        "            auto data = batch.data.to(device);\n",
        "            auto targets = batch.target.to(device).to(torch::kFloat32);\n",
        "\n",
        "            optimizer.zero_grad();\n",
        "            auto logits = model->forward(data).view(-1);\n",
        "            auto loss = torch::binary_cross_entropy_with_logits(logits, targets);\n",
        "            loss.backward();\n",
        "            optimizer.step();\n",
        "\n",
        "            total_loss += loss.item<double>();\n",
        "            if (batch_idx++ % 50 == 0)\n",
        "                std::cout << \"Epoch \" << epoch << \" [\" << batch_idx << \"] Loss: \" << loss.item<double>() << \"\\n\";\n",
        "        }\n",
        "        std::cout << \"Epoch \" << epoch << \" Avg Loss: \" << total_loss / batch_idx << \"\\n\";\n",
        "\n",
        "        // Evaluation\n",
        "        model->eval();\n",
        "        int correct = 0, total = 0;\n",
        "        torch::NoGradGuard no_grad;\n",
        "        for (auto& batch : *test_loader) {\n",
        "            auto data = batch.data.to(device);\n",
        "            auto targets = batch.target.to(device);\n",
        "\n",
        "            auto logits = model->forward(data).view(-1).sigmoid();\n",
        "            auto preds = (logits >= 0.5).to(torch::kLong);\n",
        "            correct += preds.eq(targets).sum().item<int64_t>();\n",
        "            total += targets.size(0);\n",
        "        }\n",
        "        std::cout << \"Test Accuracy: \" << std::fixed << std::setprecision(4)\n",
        "                  << static_cast<double>(correct) / total << \"\\n\";\n",
        "    }\n",
        "\n",
        "    torch::save(model, \"airplane_model.pt\");\n",
        "    std::cout << \"Model saved to airplane_model.pt\\n\";\n",
        "}\n",
        "EOF\n",
        "\n",
        "g++ main.cpp -o main $(pkg-config --cflags --libs libtorch) -ltorchvision -std=c++17\n",
        "./main"
      ]
    }
  ]
}
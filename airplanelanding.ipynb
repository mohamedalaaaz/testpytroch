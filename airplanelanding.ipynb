{
  "nbformat": 4,
  "nbformat_minor": 0,
  "metadata": {
    "colab": {
      "provenance": [],
      "authorship_tag": "ABX9TyNocvBbMAi+BAYJickCGMMg",
      "include_colab_link": true
    },
    "kernelspec": {
      "name": "python3",
      "display_name": "Python 3"
    },
    "language_info": {
      "name": "python"
    }
  },
  "cells": [
    {
      "cell_type": "markdown",
      "metadata": {
        "id": "view-in-github",
        "colab_type": "text"
      },
      "source": [
        "<a href=\"https://colab.research.google.com/github/mohamedalaaaz/testpytroch/blob/main/airplanelanding.ipynb\" target=\"_parent\"><img src=\"https://colab.research.google.com/assets/colab-badge.svg\" alt=\"Open In Colab\"/></a>"
      ]
    },
    {
      "cell_type": "code",
      "source": [
        "import gym\n",
        "import torch\n",
        "import torch.nn as nn\n",
        "import torch.optim as optim\n",
        "import numpy as np\n",
        "\n",
        "# Import JSBSim environment\n",
        "import gym_jsbsim\n",
        "\n",
        "# Create environment\n",
        "env = gym.make('JSBSim-TurnHeadingControl-v0')  # or use landing-specific environment if available\n",
        "\n",
        "obs_dim = env.observation_space.shape[0]\n",
        "act_dim = env.action_space.shape[0]\n",
        "\n",
        "# Define a simple policy network\n",
        "class PolicyNet(nn.Module):\n",
        "    def __init__(self, obs_dim, act_dim):\n",
        "        super(PolicyNet, self).__init__()\n",
        "        self.fc = nn.Sequential(\n",
        "            nn.Linear(obs_dim, 128),\n",
        "            nn.ReLU(),\n",
        "            nn.Linear(128, 128),\n",
        "            nn.ReLU(),\n",
        "            nn.Linear(128, act_dim),\n",
        "            nn.Tanh()  # Normalize actions\n",
        "        )\n",
        "\n",
        "    def forward(self, x):\n",
        "        return self.fc(x)\n",
        "\n",
        "policy = PolicyNet(obs_dim, act_dim)\n",
        "optimizer = optim.Adam(policy.parameters(), lr=3e-4)\n",
        "\n",
        "# Collect rollout and train with PPO or simple policy gradient\n",
        "# (This code just shows setup – full training loop is longer)\n"
      ],
      "metadata": {
        "id": "MDxNHLj8PSPH"
      },
      "execution_count": null,
      "outputs": []
    },
    {
      "cell_type": "code",
      "source": [
        "from stable_baselines3 import PPO\n",
        "\n",
        "env = gym.make('JSBSim-TurnHeadingControl-v0')\n",
        "model = PPO(\"MlpPolicy\", env, verbose=1)\n",
        "model.learn(total_timesteps=100000)\n"
      ],
      "metadata": {
        "id": "LqAxPG8QPU-_"
      },
      "execution_count": null,
      "outputs": []
    },
    {
      "cell_type": "code",
      "source": [
        "obs = env.reset()\n",
        "done = False\n",
        "while not done:\n",
        "    action, _ = model.predict(obs)\n",
        "    obs, reward, done, info = env.step(action)\n",
        "    env.render()  # If supported\n"
      ],
      "metadata": {
        "id": "Y9SPMUgCPXxm"
      },
      "execution_count": null,
      "outputs": []
    }
  ]
}
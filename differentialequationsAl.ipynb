{
  "nbformat": 4,
  "nbformat_minor": 0,
  "metadata": {
    "colab": {
      "provenance": [],
      "authorship_tag": "ABX9TyP8Hw0njyjX+MtUb0S5y3kY",
      "include_colab_link": true
    },
    "kernelspec": {
      "name": "python3",
      "display_name": "Python 3"
    },
    "language_info": {
      "name": "python"
    }
  },
  "cells": [
    {
      "cell_type": "markdown",
      "metadata": {
        "id": "view-in-github",
        "colab_type": "text"
      },
      "source": [
        "<a href=\"https://colab.research.google.com/github/mohamedalaaaz/testpytroch/blob/main/differentialequationsAl.ipynb\" target=\"_parent\"><img src=\"https://colab.research.google.com/assets/colab-badge.svg\" alt=\"Open In Colab\"/></a>"
      ]
    },
    {
      "cell_type": "code",
      "execution_count": null,
      "metadata": {
        "id": "HfM5Lz3LCgoM"
      },
      "outputs": [],
      "source": []
    },
    {
      "cell_type": "markdown",
      "metadata": {
        "id": "215d42e8"
      },
      "source": [
        "### 1. Understand the Problem\n",
        "\n",
        "Before diving into coding, it's crucial to clearly define the scope of our project. What types of differential equations are we focusing on? Are they ordinary differential equations (ODEs) or partial differential equations (PDEs)? Are they first-order, second-order, or higher? Are they linear or non-linear?\n",
        "\n",
        "For this example, let's assume we want to build a model that solves first-order ordinary differential equations of the form:\n",
        "\n",
        "$ \\frac{dy}{dx} = f(x, y) $\n",
        "\n",
        "with an initial condition $ y(x_0) = y_0 $.\n",
        "\n",
        "The input to our model will be the function $ f(x, y) $, the initial condition $ (x_0, y_0) $, and the range of $x$ values for which we want the solution. The output will be an approximation of the function $ y(x) $ over the specified range.\n",
        "\n",
        "We can represent the function $ f(x, y) $ as a mathematical expression or a callable function. The initial condition will be a pair of numbers, and the range of $x$ values will be a tuple or list. The output $ y(x) $ can be represented as a set of points $(x, y)$ or a function approximation.\n",
        "\n",
        "In the next step, we will focus on generating data for training our model."
      ]
    },
    {
      "cell_type": "code",
      "metadata": {
        "id": "e80f21d0"
      },
      "source": [
        "import torch\n",
        "import numpy as np\n",
        "from scipy.integrate import solve_ivp\n",
        "import random\n",
        "\n",
        "# Define the function f(x, y) for a simple ODE (e.g., dy/dx = -y)\n",
        "def f(x, y):\n",
        "    return -y\n",
        "\n",
        "# Define the analytical solution for this specific ODE (y = C * exp(-x))\n",
        "# We'll use this to generate initial conditions and verify numerical solutions\n",
        "def analytical_solution(x, y0, x0):\n",
        "    C = y0 / np.exp(-x0)\n",
        "    return C * np.exp(-x)\n",
        "\n",
        "# Data generation parameters\n",
        "num_samples = 1000\n",
        "x_range = [0, 5]\n",
        "y0_range = [0.1, 2.0]\n",
        "x0_range = [0.0, 1.0]\n",
        "num_points = 50 # Number of points in the solution curve\n",
        "\n",
        "data = []\n",
        "\n",
        "for _ in range(num_samples):\n",
        "    # Generate random initial condition (x0, y0)\n",
        "    x0 = random.uniform(x0_range[0], x0_range[1])\n",
        "    y0 = random.uniform(y0_range[0], y0_range[1])\n",
        "\n",
        "    # Generate the solution using a numerical solver (solve_ivp)\n",
        "    # We use the analytical solution to get the true y0 for the given x0\n",
        "    true_y0 = analytical_solution(x0, y0, x0) # This step might seem redundant but helps if f was more complex\n",
        "\n",
        "    sol = solve_ivp(f, x_range, [true_y0], dense_output=True)\n",
        "\n",
        "    # Generate points along the solution curve\n",
        "    t = np.linspace(x_range[0], x_range[1], num_points)\n",
        "    y = sol.sol(t).T.flatten() # Get the solution at the generated points\n",
        "\n",
        "    # Store the data: initial condition, x values, and corresponding y values\n",
        "    # We'll store f as a string for simplicity in this example, but for a real model,\n",
        "    # you might need a more sophisticated representation of f.\n",
        "    data.append({\n",
        "        'f': '-y', # Representation of f(x, y)\n",
        "        'x0': x0,\n",
        "        'y0': true_y0,\n",
        "        'x_values': t.tolist(),\n",
        "        'y_values': y.tolist()\n",
        "    })\n",
        "\n",
        "print(f\"Generated {len(data)} data samples.\")\n",
        "# You can further process this data, e.g., save it to a file or convert it to tensors"
      ],
      "execution_count": null,
      "outputs": []
    }
  ]
}
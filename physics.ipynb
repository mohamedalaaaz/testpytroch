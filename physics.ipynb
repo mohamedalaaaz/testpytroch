{
  "nbformat": 4,
  "nbformat_minor": 0,
  "metadata": {
    "colab": {
      "provenance": [],
      "authorship_tag": "ABX9TyOorXCQ5VyfOm+2bfjaXnlC",
      "include_colab_link": true
    },
    "kernelspec": {
      "name": "python3",
      "display_name": "Python 3"
    },
    "language_info": {
      "name": "python"
    }
  },
  "cells": [
    {
      "cell_type": "markdown",
      "metadata": {
        "id": "view-in-github",
        "colab_type": "text"
      },
      "source": [
        "<a href=\"https://colab.research.google.com/github/mohamedalaaaz/testpytroch/blob/main/physics.ipynb\" target=\"_parent\"><img src=\"https://colab.research.google.com/assets/colab-badge.svg\" alt=\"Open In Colab\"/></a>"
      ]
    },
    {
      "cell_type": "code",
      "execution_count": 1,
      "metadata": {
        "colab": {
          "base_uri": "https://localhost:8080/"
        },
        "id": "u8GyYukzDJ7n",
        "outputId": "6fdbc40f-f1af-4f64-9d76-a16203af4234"
      },
      "outputs": [
        {
          "output_type": "stream",
          "name": "stdout",
          "text": [
            "Epoch 0, Loss: 0.210172\n",
            "Epoch 200, Loss: 0.000010\n",
            "Epoch 400, Loss: 0.000006\n",
            "Epoch 600, Loss: 0.000003\n",
            "Epoch 800, Loss: 0.000001\n",
            "Epoch 1000, Loss: 0.000000\n",
            "Epoch 1200, Loss: 0.000000\n",
            "Epoch 1400, Loss: 0.000000\n",
            "Epoch 1600, Loss: 0.000000\n",
            "Epoch 1800, Loss: 0.000000\n"
          ]
        }
      ],
      "source": [
        "import torch\n",
        "import torch.nn as nn\n",
        "import torch.optim as optim\n",
        "\n",
        "# Define the neural network model\n",
        "class PhysicsNet(nn.Module):\n",
        "    def __init__(self):\n",
        "        super(PhysicsNet, self).__init__()\n",
        "        self.net = nn.Sequential(\n",
        "            nn.Linear(1, 64),\n",
        "            nn.Tanh(),\n",
        "            nn.Linear(64, 64),\n",
        "            nn.Tanh(),\n",
        "            nn.Linear(64, 1)\n",
        "        )\n",
        "\n",
        "    def forward(self, t):\n",
        "        return self.net(t)\n",
        "\n",
        "# Define the physics-informed loss function\n",
        "def physics_loss(model, t, k=1.0):\n",
        "    t.requires_grad = True\n",
        "    y_pred = model(t)\n",
        "\n",
        "    # Compute dy/dt using autograd\n",
        "    dy_dt = torch.autograd.grad(y_pred, t, grad_outputs=torch.ones_like(y_pred),\n",
        "                                retain_graph=True, create_graph=True)[0]\n",
        "\n",
        "    # The differential equation: dy/dt = -k * y\n",
        "    residual = dy_dt + k * y_pred\n",
        "    return torch.mean(residual**2)\n",
        "\n",
        "# Training loop\n",
        "def train(model, epochs=2000, lr=0.001):\n",
        "    optimizer = optim.Adam(model.parameters(), lr=lr)\n",
        "\n",
        "    for epoch in range(epochs):\n",
        "        t = torch.linspace(0, 5, 100).view(-1, 1)\n",
        "        loss = physics_loss(model, t)\n",
        "\n",
        "        optimizer.zero_grad()\n",
        "        loss.backward()\n",
        "        optimizer.step()\n",
        "\n",
        "        if epoch % 200 == 0:\n",
        "            print(f\"Epoch {epoch}, Loss: {loss.item():.6f}\")\n",
        "\n",
        "    return model\n",
        "\n",
        "# Instantiate and train the model\n",
        "model = PhysicsNet()\n",
        "trained_model = train(model)\n"
      ]
    }
  ]
}
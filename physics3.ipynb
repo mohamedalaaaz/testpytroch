{
  "nbformat": 4,
  "nbformat_minor": 0,
  "metadata": {
    "colab": {
      "provenance": [],
      "authorship_tag": "ABX9TyPDJfITxH1iwiRmaa70vFiD",
      "include_colab_link": true
    },
    "kernelspec": {
      "name": "python3",
      "display_name": "Python 3"
    },
    "language_info": {
      "name": "python"
    }
  },
  "cells": [
    {
      "cell_type": "markdown",
      "metadata": {
        "id": "view-in-github",
        "colab_type": "text"
      },
      "source": [
        "<a href=\"https://colab.research.google.com/github/mohamedalaaaz/testpytroch/blob/main/physics3.ipynb\" target=\"_parent\"><img src=\"https://colab.research.google.com/assets/colab-badge.svg\" alt=\"Open In Colab\"/></a>"
      ]
    },
    {
      "cell_type": "code",
      "execution_count": null,
      "metadata": {
        "id": "lyWOzRNQFOES"
      },
      "outputs": [],
      "source": [
        "import matplotlib.pyplot as plt\n",
        "\n",
        "# Create a grid of (x, t) points\n",
        "x_vals = torch.linspace(0, 1, 100).view(-1, 1).to(device)\n",
        "t_vals = torch.linspace(0, 1, 100).view(-1, 1).to(device)\n",
        "X, T = torch.meshgrid(x_vals.squeeze(), t_vals.squeeze(), indexing='ij')\n",
        "\n",
        "x_flat = X.reshape(-1, 1)\n",
        "t_flat = T.reshape(-1, 1)\n",
        "\n",
        "# Predict u(x, t)\n",
        "with torch.no_grad():\n",
        "    u_pred = model(x_flat, t_flat).cpu().numpy()\n",
        "\n",
        "U = u_pred.reshape(100, 100)  # reshape to 2D grid\n",
        "\n",
        "# Plot heatmap\n",
        "plt.figure(figsize=(8, 6))\n",
        "plt.imshow(U, extent=[0, 1, 0, 1], origin='lower', aspect='auto', cmap='hot')\n",
        "plt.colorbar(label='u(x, t)')\n",
        "plt.xlabel('x')\n",
        "plt.ylabel('t')\n",
        "plt.title('Predicted Solution of 1D Heat Equation')\n",
        "plt.show()\n"
      ]
    }
  ]
}
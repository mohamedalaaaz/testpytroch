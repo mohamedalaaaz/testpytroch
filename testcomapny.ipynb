{
  "nbformat": 4,
  "nbformat_minor": 0,
  "metadata": {
    "colab": {
      "provenance": [],
      "authorship_tag": "ABX9TyPQ4Z6T+odOXs7icJFc4HN4",
      "include_colab_link": true
    },
    "kernelspec": {
      "name": "python3",
      "display_name": "Python 3"
    },
    "language_info": {
      "name": "python"
    }
  },
  "cells": [
    {
      "cell_type": "markdown",
      "metadata": {
        "id": "view-in-github",
        "colab_type": "text"
      },
      "source": [
        "<a href=\"https://colab.research.google.com/github/mohamedalaaaz/testpytroch/blob/main/testcomapny.ipynb\" target=\"_parent\"><img src=\"https://colab.research.google.com/assets/colab-badge.svg\" alt=\"Open In Colab\"/></a>"
      ]
    },
    {
      "cell_type": "code",
      "execution_count": 9,
      "metadata": {
        "colab": {
          "base_uri": "https://localhost:8080/"
        },
        "id": "ewiGUkykzjJv",
        "outputId": "a4b12473-8509-4d86-92f8-5e9498d90b42"
      },
      "outputs": [
        {
          "output_type": "execute_result",
          "data": {
            "text/plain": [
              "(array([1., 2., 3., 4., 5., 6., 7.]),\n",
              " tensor([1., 2., 3., 4., 5., 6., 7.], dtype=torch.float64))"
            ]
          },
          "metadata": {},
          "execution_count": 9
        }
      ],
      "source": [
        "import torch\n",
        "import numpy as np\n",
        "\n",
        "array=np.arange(1.0,8.0)\n",
        "tensor = torch.from_numpy(array).type(torch.float64)\n",
        "array , tensor"
      ]
    },
    {
      "cell_type": "code",
      "source": [
        "array.dtype"
      ],
      "metadata": {
        "colab": {
          "base_uri": "https://localhost:8080/"
        },
        "id": "Y2BmJlnb0q27",
        "outputId": "a2034d16-9746-4e02-f84f-44fd86477aac"
      },
      "execution_count": 5,
      "outputs": [
        {
          "output_type": "execute_result",
          "data": {
            "text/plain": [
              "dtype('float64')"
            ]
          },
          "metadata": {},
          "execution_count": 5
        }
      ]
    },
    {
      "cell_type": "code",
      "source": [
        "tensor = torch.ones(7)\n",
        "numpy_tensor = tensor.numpy()\n",
        "tensor , numpy_tensor"
      ],
      "metadata": {
        "colab": {
          "base_uri": "https://localhost:8080/"
        },
        "id": "oBc1OpTl0hLd",
        "outputId": "be25d428-63c6-4078-c8c3-e0523e877314"
      },
      "execution_count": 10,
      "outputs": [
        {
          "output_type": "execute_result",
          "data": {
            "text/plain": [
              "(tensor([1., 1., 1., 1., 1., 1., 1.]),\n",
              " array([1., 1., 1., 1., 1., 1., 1.], dtype=float32))"
            ]
          },
          "metadata": {},
          "execution_count": 10
        }
      ]
    },
    {
      "cell_type": "code",
      "source": [
        "tensor=tensor+2\n",
        "tensor,numpy_tensor"
      ],
      "metadata": {
        "colab": {
          "base_uri": "https://localhost:8080/"
        },
        "id": "gAcSh78-3T-G",
        "outputId": "b5ad5cb0-7c2f-40e9-adcf-1f83b80310a1"
      },
      "execution_count": 11,
      "outputs": [
        {
          "output_type": "execute_result",
          "data": {
            "text/plain": [
              "(tensor([3., 3., 3., 3., 3., 3., 3.]),\n",
              " array([1., 1., 1., 1., 1., 1., 1.], dtype=float32))"
            ]
          },
          "metadata": {},
          "execution_count": 11
        }
      ]
    },
    {
      "cell_type": "code",
      "source": [
        "torch.rand(280,2855)"
      ],
      "metadata": {
        "colab": {
          "base_uri": "https://localhost:8080/"
        },
        "id": "FiiCHMSc3xiE",
        "outputId": "1b128f6f-0bd7-4dc4-9a65-a8f04daa7766"
      },
      "execution_count": 14,
      "outputs": [
        {
          "output_type": "execute_result",
          "data": {
            "text/plain": [
              "tensor([[8.1939e-01, 3.6416e-01, 4.7114e-02,  ..., 8.3350e-01, 9.6599e-02,\n",
              "         2.3510e-01],\n",
              "        [5.6239e-02, 4.8720e-01, 3.5220e-01,  ..., 5.0327e-01, 3.6526e-01,\n",
              "         8.6804e-01],\n",
              "        [3.2172e-01, 1.5105e-01, 1.1925e-01,  ..., 6.1857e-01, 1.3728e-01,\n",
              "         4.0474e-01],\n",
              "        ...,\n",
              "        [9.8552e-01, 4.0568e-01, 9.8673e-01,  ..., 8.4936e-01, 7.1429e-01,\n",
              "         4.8049e-01],\n",
              "        [4.8403e-01, 6.8079e-01, 6.0515e-01,  ..., 3.0649e-01, 4.3356e-04,\n",
              "         5.6871e-02],\n",
              "        [1.4621e-01, 1.2673e-01, 3.6693e-01,  ..., 3.5623e-01, 1.8607e-01,\n",
              "         7.6970e-01]])"
            ]
          },
          "metadata": {},
          "execution_count": 14
        }
      ]
    },
    {
      "cell_type": "code",
      "source": [
        "torch.rand(9,9)"
      ],
      "metadata": {
        "colab": {
          "base_uri": "https://localhost:8080/"
        },
        "id": "7rK1Nvds4S9T",
        "outputId": "aee5b078-8ac7-4457-9e01-0c875139e110"
      },
      "execution_count": 15,
      "outputs": [
        {
          "output_type": "execute_result",
          "data": {
            "text/plain": [
              "tensor([[0.8084, 0.5151, 0.4784, 0.3633, 0.3095, 0.9801, 0.3502, 0.0132, 0.9658],\n",
              "        [0.6534, 0.8214, 0.9410, 0.6488, 0.1995, 0.1772, 0.9166, 0.4789, 0.6520],\n",
              "        [0.9453, 0.1930, 0.3105, 0.6495, 0.3167, 0.4476, 0.4149, 0.0951, 0.4740],\n",
              "        [0.6977, 0.1772, 0.0063, 0.8514, 0.6106, 0.2125, 0.4054, 0.3449, 0.0575],\n",
              "        [0.8605, 0.1892, 0.3943, 0.5352, 0.2771, 0.6847, 0.6625, 0.6165, 0.8630],\n",
              "        [0.5711, 0.1938, 0.2328, 0.7759, 0.4396, 0.2220, 0.5180, 0.2324, 0.8347],\n",
              "        [0.7849, 0.1832, 0.6812, 0.6340, 0.5874, 0.0855, 0.9703, 0.3572, 0.1195],\n",
              "        [0.1950, 0.7859, 0.1750, 0.9278, 0.3780, 0.7812, 0.5467, 0.2890, 0.9369],\n",
              "        [0.2730, 0.6157, 0.5901, 0.9189, 0.8129, 0.3654, 0.4829, 0.4441, 0.2742]])"
            ]
          },
          "metadata": {},
          "execution_count": 15
        }
      ]
    },
    {
      "cell_type": "code",
      "source": [
        "import torch\n",
        "random_tensor_A =torch.rand(3,4)\n",
        "random_tensor_B=torch.rand(3,4)\n",
        "\n",
        "print(random_tensor_A )\n",
        "print(random_tensor_B )\n",
        "print(random_tensor_A  ==random_tensor_B)\n"
      ],
      "metadata": {
        "colab": {
          "base_uri": "https://localhost:8080/"
        },
        "id": "f9D9pmje4hOM",
        "outputId": "835ba549-86dd-4688-a8fc-bbab2df12661"
      },
      "execution_count": 17,
      "outputs": [
        {
          "output_type": "stream",
          "name": "stdout",
          "text": [
            "tensor([[0.8520, 0.4046, 0.8719, 0.0998],\n",
            "        [0.9363, 0.8831, 0.3656, 0.6329],\n",
            "        [0.5200, 0.6085, 0.9564, 0.9629]])\n",
            "tensor([[0.9647, 0.2139, 0.5611, 0.1431],\n",
            "        [0.3923, 0.3266, 0.1376, 0.6557],\n",
            "        [0.7228, 0.0694, 0.5563, 0.2540]])\n",
            "tensor([[False, False, False, False],\n",
            "        [False, False, False, False],\n",
            "        [False, False, False, False]])\n"
          ]
        }
      ]
    },
    {
      "cell_type": "code",
      "source": [
        "import torch\n",
        "seed_rendom=55\n",
        "torch.manual_seed(seed_rendom)\n",
        "random_tensor_C=torch.rand(3,4)\n",
        "random_tensor_d=torch.rand(3,4)\n",
        "print(random_tensor_C)\n",
        "print(random_tensor_d )\n",
        "print(random_tensor_C ==random_tensor_d)"
      ],
      "metadata": {
        "colab": {
          "base_uri": "https://localhost:8080/"
        },
        "id": "R1_GJtyz5HX7",
        "outputId": "ee867c9f-91f9-4e9c-b316-cacc52d80c84"
      },
      "execution_count": 21,
      "outputs": [
        {
          "output_type": "stream",
          "name": "stdout",
          "text": [
            "tensor([[0.8357, 0.9378, 0.7439, 0.5674],\n",
            "        [0.8682, 0.4765, 0.0858, 0.7740],\n",
            "        [0.9677, 0.1874, 0.0993, 0.0611]])\n",
            "tensor([[0.8334, 0.7835, 0.5216, 0.8003],\n",
            "        [0.7370, 0.3124, 0.3930, 0.3130],\n",
            "        [0.1657, 0.8543, 0.5834, 0.5361]])\n",
            "tensor([[False, False, False, False],\n",
            "        [False, False, False, False],\n",
            "        [False, False, False, False]])\n"
          ]
        }
      ]
    },
    {
      "cell_type": "code",
      "source": [
        "import torch\n",
        "seed_rendom=55\n",
        "torch.manual_seed(seed_rendom)\n",
        "random_tensor_C=torch.rand(3,4)\n",
        "torch.manual_seed(seed_rendom)\n",
        "random_tensor_d=torch.rand(3,4)\n",
        "print(random_tensor_C)\n",
        "print(random_tensor_d )\n",
        "print(random_tensor_C ==random_tensor_d)"
      ],
      "metadata": {
        "colab": {
          "base_uri": "https://localhost:8080/"
        },
        "id": "HCFbYNl96Oz-",
        "outputId": "62e18628-9f07-4a13-bef3-fc24b9a63194"
      },
      "execution_count": 22,
      "outputs": [
        {
          "output_type": "stream",
          "name": "stdout",
          "text": [
            "tensor([[0.8357, 0.9378, 0.7439, 0.5674],\n",
            "        [0.8682, 0.4765, 0.0858, 0.7740],\n",
            "        [0.9677, 0.1874, 0.0993, 0.0611]])\n",
            "tensor([[0.8357, 0.9378, 0.7439, 0.5674],\n",
            "        [0.8682, 0.4765, 0.0858, 0.7740],\n",
            "        [0.9677, 0.1874, 0.0993, 0.0611]])\n",
            "tensor([[True, True, True, True],\n",
            "        [True, True, True, True],\n",
            "        [True, True, True, True]])\n"
          ]
        }
      ]
    },
    {
      "cell_type": "code",
      "source": [
        "import random\n",
        "random.seed(0)\n",
        "import torch\n",
        "torch.use_deterministic_algorithms(True)\n",
        "#torch.bmm(torch.randn(2, 2, 2).to_sparse().cuda(), torch.randn(2, 2, 2).cuda())\n"
      ],
      "metadata": {
        "id": "JHmIyUeo68hZ"
      },
      "execution_count": 30,
      "outputs": []
    },
    {
      "cell_type": "code",
      "source": [
        "!nvidia-smi"
      ],
      "metadata": {
        "colab": {
          "base_uri": "https://localhost:8080/"
        },
        "id": "-aXeI2Ep7Vl1",
        "outputId": "72e105f4-0216-4be9-f859-0d64efd36917"
      },
      "execution_count": 35,
      "outputs": [
        {
          "output_type": "stream",
          "name": "stdout",
          "text": [
            "/bin/bash: line 1: nvidia-smi: command not found\n"
          ]
        }
      ]
    },
    {
      "cell_type": "code",
      "source": [
        "import torch\n",
        "torch.cuda.is_available()"
      ],
      "metadata": {
        "colab": {
          "base_uri": "https://localhost:8080/"
        },
        "id": "UVP8JMEx9rOP",
        "outputId": "fbf9a462-4589-4ae8-9b87-68491400cae3"
      },
      "execution_count": 36,
      "outputs": [
        {
          "output_type": "execute_result",
          "data": {
            "text/plain": [
              "False"
            ]
          },
          "metadata": {},
          "execution_count": 36
        }
      ]
    },
    {
      "cell_type": "code",
      "source": [
        "torch.cuda.device_count()"
      ],
      "metadata": {
        "colab": {
          "base_uri": "https://localhost:8080/"
        },
        "id": "CE_3nDbt-SVO",
        "outputId": "fd658867-884f-4b13-e112-90e70bda948a"
      },
      "execution_count": 37,
      "outputs": [
        {
          "output_type": "execute_result",
          "data": {
            "text/plain": [
              "0"
            ]
          },
          "metadata": {},
          "execution_count": 37
        }
      ]
    },
    {
      "cell_type": "code",
      "source": [
        ""
      ],
      "metadata": {
        "id": "tG0rhZiP-pCm"
      },
      "execution_count": null,
      "outputs": []
    }
  ]
}
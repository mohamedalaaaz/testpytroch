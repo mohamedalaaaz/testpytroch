{
  "nbformat": 4,
  "nbformat_minor": 0,
  "metadata": {
    "colab": {
      "provenance": [],
      "authorship_tag": "ABX9TyMRdBLibTj9IlKHklBDWEYK",
      "include_colab_link": true
    },
    "kernelspec": {
      "name": "python3",
      "display_name": "Python 3"
    },
    "language_info": {
      "name": "python"
    }
  },
  "cells": [
    {
      "cell_type": "markdown",
      "metadata": {
        "id": "view-in-github",
        "colab_type": "text"
      },
      "source": [
        "<a href=\"https://colab.research.google.com/github/mohamedalaaaz/testpytroch/blob/main/calculs.ipynb\" target=\"_parent\"><img src=\"https://colab.research.google.com/assets/colab-badge.svg\" alt=\"Open In Colab\"/></a>"
      ]
    },
    {
      "cell_type": "code",
      "execution_count": null,
      "metadata": {
        "id": "cDRU8ZphG_8g"
      },
      "outputs": [],
      "source": []
    },
    {
      "cell_type": "code",
      "source": [
        "import torch\n",
        "\n",
        "def linear_approximation(f, x0, x_val):\n",
        "    x = torch.tensor([x0], requires_grad=True)\n",
        "    y = f(x)\n",
        "    y.backward()\n",
        "    f_prime = x.grad.item()\n",
        "    f_x0 = f(x).item()\n",
        "    approx = f_x0 + f_prime * (x_val - x0)\n",
        "    return approx\n"
      ],
      "metadata": {
        "id": "zVt2u-AGHv80"
      },
      "execution_count": 1,
      "outputs": []
    },
    {
      "cell_type": "code",
      "source": [
        "f = lambda x: x**2\n",
        "print(linear_approximation(f, 2.0, 2.1))  # Approximate f(2.1)\n"
      ],
      "metadata": {
        "colab": {
          "base_uri": "https://localhost:8080/"
        },
        "id": "h_If2YWKH7Eo",
        "outputId": "5ef5d182-4746-4b89-e608-046d6c007532"
      },
      "execution_count": 2,
      "outputs": [
        {
          "output_type": "stream",
          "name": "stdout",
          "text": [
            "4.4\n"
          ]
        }
      ]
    },
    {
      "cell_type": "code",
      "source": [
        "def find_extrema(f, x0, lr=0.01, steps=1000):\n",
        "    x = torch.tensor([x0], requires_grad=True)\n",
        "    optimizer = torch.optim.SGD([x], lr=lr)\n",
        "\n",
        "    for _ in range(steps):\n",
        "        optimizer.zero_grad()\n",
        "        loss = f(x)\n",
        "        loss.backward()\n",
        "        optimizer.step()\n",
        "\n",
        "    return x.item(), f(x).item()\n"
      ],
      "metadata": {
        "id": "gzdIVIwvIAoa"
      },
      "execution_count": 3,
      "outputs": []
    },
    {
      "cell_type": "code",
      "source": [
        "def compute_second_derivative(f, x0):\n",
        "    x = torch.tensor([x0], requires_grad=True)\n",
        "    y = f(x)\n",
        "    grad1 = torch.autograd.grad(y, x, create_graph=True)[0]\n",
        "    grad2 = torch.autograd.grad(grad1, x)[0]\n",
        "    return grad1.item(), grad2.item()\n"
      ],
      "metadata": {
        "id": "aiIqZQrkIEGq"
      },
      "execution_count": 4,
      "outputs": []
    },
    {
      "cell_type": "code",
      "source": [
        "import matplotlib.pyplot as plt\n",
        "\n",
        "def plot_function(f, x_range=(-5, 5), steps=100):\n",
        "    x = torch.linspace(x_range[0], x_range[1], steps)\n",
        "    y = f(x)\n",
        "    plt.plot(x.numpy(), y.detach().numpy())\n",
        "    plt.grid(True)\n",
        "    plt.title(\"Graph of the function\")\n",
        "    plt.show()\n"
      ],
      "metadata": {
        "id": "HqqxVFF9IHAk"
      },
      "execution_count": 5,
      "outputs": []
    },
    {
      "cell_type": "code",
      "source": [
        "def iterate_function(f, x0, n=10):\n",
        "    x = x0\n",
        "    values = [x]\n",
        "    for _ in range(n):\n",
        "        x = f(x)\n",
        "        values.append(x)\n",
        "    return values\n"
      ],
      "metadata": {
        "id": "ncO_LBQfIInf"
      },
      "execution_count": 6,
      "outputs": []
    },
    {
      "cell_type": "code",
      "source": [
        "def newtons_method(f, x0, tol=1e-6, max_iter=50):\n",
        "    x = torch.tensor([x0], requires_grad=True)\n",
        "    for _ in range(max_iter):\n",
        "        y = f(x)\n",
        "        y.backward()\n",
        "        with torch.no_grad():\n",
        "            x_new = x - y / x.grad\n",
        "        if torch.abs(x_new - x) < tol:\n",
        "            break\n",
        "        x = x_new.detach().requires_grad_()\n",
        "    return x.item()\n"
      ],
      "metadata": {
        "id": "0KxPGg94IN3p"
      },
      "execution_count": 7,
      "outputs": []
    },
    {
      "cell_type": "code",
      "source": [
        "def mean_value_theorem(f, a, b):\n",
        "    x = torch.tensor([(a + b) / 2], requires_grad=True)\n",
        "    y = f(x)\n",
        "    y.backward()\n",
        "    return x.item(), x.grad.item()\n"
      ],
      "metadata": {
        "id": "8RP71mvVIRc3"
      },
      "execution_count": null,
      "outputs": []
    }
  ]
}
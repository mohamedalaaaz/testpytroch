{
  "nbformat": 4,
  "nbformat_minor": 0,
  "metadata": {
    "colab": {
      "provenance": [],
      "authorship_tag": "ABX9TyMB9HwyrJiCDQ682F5cYFB0",
      "include_colab_link": true
    },
    "kernelspec": {
      "name": "python3",
      "display_name": "Python 3"
    },
    "language_info": {
      "name": "python"
    }
  },
  "cells": [
    {
      "cell_type": "markdown",
      "metadata": {
        "id": "view-in-github",
        "colab_type": "text"
      },
      "source": [
        "<a href=\"https://colab.research.google.com/github/mohamedalaaaz/testpytroch/blob/main/caluclus.ipynb\" target=\"_parent\"><img src=\"https://colab.research.google.com/assets/colab-badge.svg\" alt=\"Open In Colab\"/></a>"
      ]
    },
    {
      "cell_type": "code",
      "execution_count": null,
      "metadata": {
        "id": "9FntTzquFhGE"
      },
      "outputs": [],
      "source": []
    },
    {
      "cell_type": "code",
      "metadata": {
        "colab": {
          "base_uri": "https://localhost:8080/"
        },
        "id": "6edc750b",
        "outputId": "ce18abb7-0043-40df-d481-ecf27e0a0c39"
      },
      "source": [
        "import torch\n",
        "\n",
        "# Define the problem: Given velocity and time, predict distance (distance = velocity * time)\n",
        "\n",
        "# Generate synthetic data\n",
        "# We'll generate random velocities and times, and calculate the corresponding distances\n",
        "num_samples = 1000\n",
        "\n",
        "# Generate random velocities between 0 and 100\n",
        "velocities = torch.rand(num_samples, 1) * 100\n",
        "\n",
        "# Generate random times between 0 and 10\n",
        "times = torch.rand(num_samples, 1) * 10\n",
        "\n",
        "# Calculate the true distances\n",
        "distances = velocities * times\n",
        "\n",
        "# Split data into training and testing sets (80% train, 20% test)\n",
        "train_size = int(0.8 * num_samples)\n",
        "train_velocities, test_velocities = velocities[:train_size], velocities[train_size:]\n",
        "train_times, test_times = times[:train_size], times[train_size:]\n",
        "train_distances, test_distances = distances[:train_size], distances[train_size:]\n",
        "\n",
        "print(\"Training data shapes:\")\n",
        "print(\"Velocities:\", train_velocities.shape)\n",
        "print(\"Times:\", train_times.shape)\n",
        "print(\"Distances:\", train_distances.shape)\n",
        "\n",
        "print(\"\\nTesting data shapes:\")\n",
        "print(\"Velocities:\", test_velocities.shape)\n",
        "print(\"Times:\", test_times.shape)\n",
        "print(\"Distances:\", test_distances.shape)"
      ],
      "execution_count": 1,
      "outputs": [
        {
          "output_type": "stream",
          "name": "stdout",
          "text": [
            "Training data shapes:\n",
            "Velocities: torch.Size([800, 1])\n",
            "Times: torch.Size([800, 1])\n",
            "Distances: torch.Size([800, 1])\n",
            "\n",
            "Testing data shapes:\n",
            "Velocities: torch.Size([200, 1])\n",
            "Times: torch.Size([200, 1])\n",
            "Distances: torch.Size([200, 1])\n"
          ]
        }
      ]
    }
  ]
}